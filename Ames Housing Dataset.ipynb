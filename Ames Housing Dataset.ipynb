{
 "cells": [
  {
   "cell_type": "markdown",
   "metadata": {},
   "source": [
    "# Ames Housing Dataset"
   ]
  },
  {
   "cell_type": "markdown",
   "metadata": {},
   "source": [
    "Credits to: https://www.kaggle.com/serigne/stacked-regressions-top-4-on-leaderboard"
   ]
  },
  {
   "cell_type": "code",
   "execution_count": 369,
   "metadata": {},
   "outputs": [],
   "source": [
    "%matplotlib inline\n",
    "import pandas as pd\n",
    "import numpy as np\n",
    "import matplotlib.pyplot as plt\n",
    "import re\n",
    "import seaborn as sns\n",
    "import scipy\n",
    "from scipy.stats import norm, skew\n",
    "import math\n",
    "\n",
    "##Settings\n",
    "pd.options.display.max_rows = 30\n",
    "pd.options.display.max_columns = 100\n",
    "pd.options.display.float_format = '{:.4f}'.format\n",
    "from IPython.display import display, HTML\n",
    "import warnings\n",
    "warnings.filterwarnings(\"ignore\")"
   ]
  },
  {
   "cell_type": "code",
   "execution_count": 84,
   "metadata": {},
   "outputs": [],
   "source": [
    "train=pd.read_csv(\"train.csv\")\n",
    "test=pd.read_csv(\"test.csv\")\n",
    "df =  pd.concat(objs=[train, test], axis=0).reset_index(drop=True)\n",
    "temp=df.columns.values.tolist()\n",
    "temp.remove(\"SalePrice\")\n",
    "temp.remove(\"LSalePrice\")\n",
    "col=[\"SalePrice\",\"LSalePrice\"]+temp\n",
    "df=df[col]"
   ]
  },
  {
   "cell_type": "code",
   "execution_count": 86,
   "metadata": {},
   "outputs": [
    {
     "data": {
      "text/html": [
       "<div>\n",
       "<style scoped>\n",
       "    .dataframe tbody tr th:only-of-type {\n",
       "        vertical-align: middle;\n",
       "    }\n",
       "\n",
       "    .dataframe tbody tr th {\n",
       "        vertical-align: top;\n",
       "    }\n",
       "\n",
       "    .dataframe thead th {\n",
       "        text-align: right;\n",
       "    }\n",
       "</style>\n",
       "<table border=\"1\" class=\"dataframe\">\n",
       "  <thead>\n",
       "    <tr style=\"text-align: right;\">\n",
       "      <th></th>\n",
       "      <th>SalePrice</th>\n",
       "      <th>LSalePrice</th>\n",
       "      <th>1stFlrSF</th>\n",
       "      <th>2ndFlrSF</th>\n",
       "      <th>3SsnPorch</th>\n",
       "      <th>Alley</th>\n",
       "      <th>BedroomAbvGr</th>\n",
       "      <th>BldgType</th>\n",
       "      <th>BsmtCond</th>\n",
       "      <th>BsmtExposure</th>\n",
       "      <th>BsmtFinSF1</th>\n",
       "      <th>BsmtFinSF2</th>\n",
       "      <th>BsmtFinType1</th>\n",
       "      <th>BsmtFinType2</th>\n",
       "      <th>BsmtFullBath</th>\n",
       "      <th>BsmtHalfBath</th>\n",
       "      <th>BsmtQual</th>\n",
       "      <th>BsmtUnfSF</th>\n",
       "      <th>CentralAir</th>\n",
       "      <th>Condition1</th>\n",
       "      <th>Condition2</th>\n",
       "      <th>Electrical</th>\n",
       "      <th>EnclosedPorch</th>\n",
       "      <th>ExterCond</th>\n",
       "      <th>ExterQual</th>\n",
       "      <th>Exterior1st</th>\n",
       "      <th>Exterior2nd</th>\n",
       "      <th>Fence</th>\n",
       "      <th>FireplaceQu</th>\n",
       "      <th>Fireplaces</th>\n",
       "      <th>Foundation</th>\n",
       "      <th>FullBath</th>\n",
       "      <th>Functional</th>\n",
       "      <th>GarageArea</th>\n",
       "      <th>GarageCars</th>\n",
       "      <th>GarageCond</th>\n",
       "      <th>GarageFinish</th>\n",
       "      <th>GarageQual</th>\n",
       "      <th>GarageType</th>\n",
       "      <th>GarageYrBlt</th>\n",
       "      <th>GrLivArea</th>\n",
       "      <th>HalfBath</th>\n",
       "      <th>Heating</th>\n",
       "      <th>HeatingQC</th>\n",
       "      <th>HouseStyle</th>\n",
       "      <th>Id</th>\n",
       "      <th>KitchenAbvGr</th>\n",
       "      <th>KitchenQual</th>\n",
       "      <th>LandContour</th>\n",
       "      <th>LandSlope</th>\n",
       "      <th>LotArea</th>\n",
       "      <th>LotConfig</th>\n",
       "      <th>LotFrontage</th>\n",
       "      <th>LotShape</th>\n",
       "      <th>LowQualFinSF</th>\n",
       "      <th>MSSubClass</th>\n",
       "      <th>MSZoning</th>\n",
       "      <th>MasVnrArea</th>\n",
       "      <th>MasVnrType</th>\n",
       "      <th>MiscFeature</th>\n",
       "      <th>MiscVal</th>\n",
       "      <th>MoSold</th>\n",
       "      <th>Neighborhood</th>\n",
       "      <th>OpenPorchSF</th>\n",
       "      <th>OverallCond</th>\n",
       "      <th>OverallQual</th>\n",
       "      <th>PavedDrive</th>\n",
       "      <th>PoolArea</th>\n",
       "      <th>PoolQC</th>\n",
       "      <th>RoofMatl</th>\n",
       "      <th>RoofStyle</th>\n",
       "      <th>SaleCondition</th>\n",
       "      <th>SaleType</th>\n",
       "      <th>ScreenPorch</th>\n",
       "      <th>Street</th>\n",
       "      <th>TotRmsAbvGrd</th>\n",
       "      <th>TotalBsmtSF</th>\n",
       "      <th>Utilities</th>\n",
       "      <th>WoodDeckSF</th>\n",
       "      <th>YearBuilt</th>\n",
       "      <th>YearRemodAdd</th>\n",
       "      <th>YrSold</th>\n",
       "    </tr>\n",
       "  </thead>\n",
       "  <tbody>\n",
       "    <tr>\n",
       "      <th>0</th>\n",
       "      <td>208500.0000</td>\n",
       "      <td>12.2477</td>\n",
       "      <td>856</td>\n",
       "      <td>854</td>\n",
       "      <td>0</td>\n",
       "      <td>NaN</td>\n",
       "      <td>3</td>\n",
       "      <td>1Fam</td>\n",
       "      <td>TA</td>\n",
       "      <td>No</td>\n",
       "      <td>706.0000</td>\n",
       "      <td>0.0000</td>\n",
       "      <td>GLQ</td>\n",
       "      <td>Unf</td>\n",
       "      <td>1.0000</td>\n",
       "      <td>0.0000</td>\n",
       "      <td>Gd</td>\n",
       "      <td>150.0000</td>\n",
       "      <td>Y</td>\n",
       "      <td>Norm</td>\n",
       "      <td>Norm</td>\n",
       "      <td>SBrkr</td>\n",
       "      <td>0</td>\n",
       "      <td>TA</td>\n",
       "      <td>Gd</td>\n",
       "      <td>VinylSd</td>\n",
       "      <td>VinylSd</td>\n",
       "      <td>NaN</td>\n",
       "      <td>NaN</td>\n",
       "      <td>0</td>\n",
       "      <td>PConc</td>\n",
       "      <td>2</td>\n",
       "      <td>Typ</td>\n",
       "      <td>548.0000</td>\n",
       "      <td>2.0000</td>\n",
       "      <td>TA</td>\n",
       "      <td>RFn</td>\n",
       "      <td>TA</td>\n",
       "      <td>Attchd</td>\n",
       "      <td>2003.0000</td>\n",
       "      <td>1710</td>\n",
       "      <td>1</td>\n",
       "      <td>GasA</td>\n",
       "      <td>Ex</td>\n",
       "      <td>2Story</td>\n",
       "      <td>1</td>\n",
       "      <td>1</td>\n",
       "      <td>Gd</td>\n",
       "      <td>Lvl</td>\n",
       "      <td>Gtl</td>\n",
       "      <td>8450</td>\n",
       "      <td>Inside</td>\n",
       "      <td>65.0000</td>\n",
       "      <td>Reg</td>\n",
       "      <td>0</td>\n",
       "      <td>60</td>\n",
       "      <td>RL</td>\n",
       "      <td>196.0000</td>\n",
       "      <td>BrkFace</td>\n",
       "      <td>NaN</td>\n",
       "      <td>0</td>\n",
       "      <td>2</td>\n",
       "      <td>CollgCr</td>\n",
       "      <td>61</td>\n",
       "      <td>5</td>\n",
       "      <td>7</td>\n",
       "      <td>Y</td>\n",
       "      <td>0</td>\n",
       "      <td>NaN</td>\n",
       "      <td>CompShg</td>\n",
       "      <td>Gable</td>\n",
       "      <td>Normal</td>\n",
       "      <td>WD</td>\n",
       "      <td>0</td>\n",
       "      <td>Pave</td>\n",
       "      <td>8</td>\n",
       "      <td>856.0000</td>\n",
       "      <td>AllPub</td>\n",
       "      <td>0</td>\n",
       "      <td>2003</td>\n",
       "      <td>2003</td>\n",
       "      <td>2008</td>\n",
       "    </tr>\n",
       "    <tr>\n",
       "      <th>1</th>\n",
       "      <td>181500.0000</td>\n",
       "      <td>12.1090</td>\n",
       "      <td>1262</td>\n",
       "      <td>0</td>\n",
       "      <td>0</td>\n",
       "      <td>NaN</td>\n",
       "      <td>3</td>\n",
       "      <td>1Fam</td>\n",
       "      <td>TA</td>\n",
       "      <td>Gd</td>\n",
       "      <td>978.0000</td>\n",
       "      <td>0.0000</td>\n",
       "      <td>ALQ</td>\n",
       "      <td>Unf</td>\n",
       "      <td>0.0000</td>\n",
       "      <td>1.0000</td>\n",
       "      <td>Gd</td>\n",
       "      <td>284.0000</td>\n",
       "      <td>Y</td>\n",
       "      <td>Feedr</td>\n",
       "      <td>Norm</td>\n",
       "      <td>SBrkr</td>\n",
       "      <td>0</td>\n",
       "      <td>TA</td>\n",
       "      <td>TA</td>\n",
       "      <td>MetalSd</td>\n",
       "      <td>MetalSd</td>\n",
       "      <td>NaN</td>\n",
       "      <td>TA</td>\n",
       "      <td>1</td>\n",
       "      <td>CBlock</td>\n",
       "      <td>2</td>\n",
       "      <td>Typ</td>\n",
       "      <td>460.0000</td>\n",
       "      <td>2.0000</td>\n",
       "      <td>TA</td>\n",
       "      <td>RFn</td>\n",
       "      <td>TA</td>\n",
       "      <td>Attchd</td>\n",
       "      <td>1976.0000</td>\n",
       "      <td>1262</td>\n",
       "      <td>0</td>\n",
       "      <td>GasA</td>\n",
       "      <td>Ex</td>\n",
       "      <td>1Story</td>\n",
       "      <td>2</td>\n",
       "      <td>1</td>\n",
       "      <td>TA</td>\n",
       "      <td>Lvl</td>\n",
       "      <td>Gtl</td>\n",
       "      <td>9600</td>\n",
       "      <td>FR2</td>\n",
       "      <td>80.0000</td>\n",
       "      <td>Reg</td>\n",
       "      <td>0</td>\n",
       "      <td>20</td>\n",
       "      <td>RL</td>\n",
       "      <td>0.0000</td>\n",
       "      <td>None</td>\n",
       "      <td>NaN</td>\n",
       "      <td>0</td>\n",
       "      <td>5</td>\n",
       "      <td>Veenker</td>\n",
       "      <td>0</td>\n",
       "      <td>8</td>\n",
       "      <td>6</td>\n",
       "      <td>Y</td>\n",
       "      <td>0</td>\n",
       "      <td>NaN</td>\n",
       "      <td>CompShg</td>\n",
       "      <td>Gable</td>\n",
       "      <td>Normal</td>\n",
       "      <td>WD</td>\n",
       "      <td>0</td>\n",
       "      <td>Pave</td>\n",
       "      <td>6</td>\n",
       "      <td>1262.0000</td>\n",
       "      <td>AllPub</td>\n",
       "      <td>298</td>\n",
       "      <td>1976</td>\n",
       "      <td>1976</td>\n",
       "      <td>2007</td>\n",
       "    </tr>\n",
       "    <tr>\n",
       "      <th>2</th>\n",
       "      <td>223500.0000</td>\n",
       "      <td>12.3172</td>\n",
       "      <td>920</td>\n",
       "      <td>866</td>\n",
       "      <td>0</td>\n",
       "      <td>NaN</td>\n",
       "      <td>3</td>\n",
       "      <td>1Fam</td>\n",
       "      <td>TA</td>\n",
       "      <td>Mn</td>\n",
       "      <td>486.0000</td>\n",
       "      <td>0.0000</td>\n",
       "      <td>GLQ</td>\n",
       "      <td>Unf</td>\n",
       "      <td>1.0000</td>\n",
       "      <td>0.0000</td>\n",
       "      <td>Gd</td>\n",
       "      <td>434.0000</td>\n",
       "      <td>Y</td>\n",
       "      <td>Norm</td>\n",
       "      <td>Norm</td>\n",
       "      <td>SBrkr</td>\n",
       "      <td>0</td>\n",
       "      <td>TA</td>\n",
       "      <td>Gd</td>\n",
       "      <td>VinylSd</td>\n",
       "      <td>VinylSd</td>\n",
       "      <td>NaN</td>\n",
       "      <td>TA</td>\n",
       "      <td>1</td>\n",
       "      <td>PConc</td>\n",
       "      <td>2</td>\n",
       "      <td>Typ</td>\n",
       "      <td>608.0000</td>\n",
       "      <td>2.0000</td>\n",
       "      <td>TA</td>\n",
       "      <td>RFn</td>\n",
       "      <td>TA</td>\n",
       "      <td>Attchd</td>\n",
       "      <td>2001.0000</td>\n",
       "      <td>1786</td>\n",
       "      <td>1</td>\n",
       "      <td>GasA</td>\n",
       "      <td>Ex</td>\n",
       "      <td>2Story</td>\n",
       "      <td>3</td>\n",
       "      <td>1</td>\n",
       "      <td>Gd</td>\n",
       "      <td>Lvl</td>\n",
       "      <td>Gtl</td>\n",
       "      <td>11250</td>\n",
       "      <td>Inside</td>\n",
       "      <td>68.0000</td>\n",
       "      <td>IR1</td>\n",
       "      <td>0</td>\n",
       "      <td>60</td>\n",
       "      <td>RL</td>\n",
       "      <td>162.0000</td>\n",
       "      <td>BrkFace</td>\n",
       "      <td>NaN</td>\n",
       "      <td>0</td>\n",
       "      <td>9</td>\n",
       "      <td>CollgCr</td>\n",
       "      <td>42</td>\n",
       "      <td>5</td>\n",
       "      <td>7</td>\n",
       "      <td>Y</td>\n",
       "      <td>0</td>\n",
       "      <td>NaN</td>\n",
       "      <td>CompShg</td>\n",
       "      <td>Gable</td>\n",
       "      <td>Normal</td>\n",
       "      <td>WD</td>\n",
       "      <td>0</td>\n",
       "      <td>Pave</td>\n",
       "      <td>6</td>\n",
       "      <td>920.0000</td>\n",
       "      <td>AllPub</td>\n",
       "      <td>0</td>\n",
       "      <td>2001</td>\n",
       "      <td>2002</td>\n",
       "      <td>2008</td>\n",
       "    </tr>\n",
       "    <tr>\n",
       "      <th>3</th>\n",
       "      <td>140000.0000</td>\n",
       "      <td>11.8494</td>\n",
       "      <td>961</td>\n",
       "      <td>756</td>\n",
       "      <td>0</td>\n",
       "      <td>NaN</td>\n",
       "      <td>3</td>\n",
       "      <td>1Fam</td>\n",
       "      <td>Gd</td>\n",
       "      <td>No</td>\n",
       "      <td>216.0000</td>\n",
       "      <td>0.0000</td>\n",
       "      <td>ALQ</td>\n",
       "      <td>Unf</td>\n",
       "      <td>1.0000</td>\n",
       "      <td>0.0000</td>\n",
       "      <td>TA</td>\n",
       "      <td>540.0000</td>\n",
       "      <td>Y</td>\n",
       "      <td>Norm</td>\n",
       "      <td>Norm</td>\n",
       "      <td>SBrkr</td>\n",
       "      <td>272</td>\n",
       "      <td>TA</td>\n",
       "      <td>TA</td>\n",
       "      <td>Wd Sdng</td>\n",
       "      <td>Wd Shng</td>\n",
       "      <td>NaN</td>\n",
       "      <td>Gd</td>\n",
       "      <td>1</td>\n",
       "      <td>BrkTil</td>\n",
       "      <td>1</td>\n",
       "      <td>Typ</td>\n",
       "      <td>642.0000</td>\n",
       "      <td>3.0000</td>\n",
       "      <td>TA</td>\n",
       "      <td>Unf</td>\n",
       "      <td>TA</td>\n",
       "      <td>Detchd</td>\n",
       "      <td>1998.0000</td>\n",
       "      <td>1717</td>\n",
       "      <td>0</td>\n",
       "      <td>GasA</td>\n",
       "      <td>Gd</td>\n",
       "      <td>2Story</td>\n",
       "      <td>4</td>\n",
       "      <td>1</td>\n",
       "      <td>Gd</td>\n",
       "      <td>Lvl</td>\n",
       "      <td>Gtl</td>\n",
       "      <td>9550</td>\n",
       "      <td>Corner</td>\n",
       "      <td>60.0000</td>\n",
       "      <td>IR1</td>\n",
       "      <td>0</td>\n",
       "      <td>70</td>\n",
       "      <td>RL</td>\n",
       "      <td>0.0000</td>\n",
       "      <td>None</td>\n",
       "      <td>NaN</td>\n",
       "      <td>0</td>\n",
       "      <td>2</td>\n",
       "      <td>Crawfor</td>\n",
       "      <td>35</td>\n",
       "      <td>5</td>\n",
       "      <td>7</td>\n",
       "      <td>Y</td>\n",
       "      <td>0</td>\n",
       "      <td>NaN</td>\n",
       "      <td>CompShg</td>\n",
       "      <td>Gable</td>\n",
       "      <td>Abnorml</td>\n",
       "      <td>WD</td>\n",
       "      <td>0</td>\n",
       "      <td>Pave</td>\n",
       "      <td>7</td>\n",
       "      <td>756.0000</td>\n",
       "      <td>AllPub</td>\n",
       "      <td>0</td>\n",
       "      <td>1915</td>\n",
       "      <td>1970</td>\n",
       "      <td>2006</td>\n",
       "    </tr>\n",
       "    <tr>\n",
       "      <th>4</th>\n",
       "      <td>250000.0000</td>\n",
       "      <td>12.4292</td>\n",
       "      <td>1145</td>\n",
       "      <td>1053</td>\n",
       "      <td>0</td>\n",
       "      <td>NaN</td>\n",
       "      <td>4</td>\n",
       "      <td>1Fam</td>\n",
       "      <td>TA</td>\n",
       "      <td>Av</td>\n",
       "      <td>655.0000</td>\n",
       "      <td>0.0000</td>\n",
       "      <td>GLQ</td>\n",
       "      <td>Unf</td>\n",
       "      <td>1.0000</td>\n",
       "      <td>0.0000</td>\n",
       "      <td>Gd</td>\n",
       "      <td>490.0000</td>\n",
       "      <td>Y</td>\n",
       "      <td>Norm</td>\n",
       "      <td>Norm</td>\n",
       "      <td>SBrkr</td>\n",
       "      <td>0</td>\n",
       "      <td>TA</td>\n",
       "      <td>Gd</td>\n",
       "      <td>VinylSd</td>\n",
       "      <td>VinylSd</td>\n",
       "      <td>NaN</td>\n",
       "      <td>TA</td>\n",
       "      <td>1</td>\n",
       "      <td>PConc</td>\n",
       "      <td>2</td>\n",
       "      <td>Typ</td>\n",
       "      <td>836.0000</td>\n",
       "      <td>3.0000</td>\n",
       "      <td>TA</td>\n",
       "      <td>RFn</td>\n",
       "      <td>TA</td>\n",
       "      <td>Attchd</td>\n",
       "      <td>2000.0000</td>\n",
       "      <td>2198</td>\n",
       "      <td>1</td>\n",
       "      <td>GasA</td>\n",
       "      <td>Ex</td>\n",
       "      <td>2Story</td>\n",
       "      <td>5</td>\n",
       "      <td>1</td>\n",
       "      <td>Gd</td>\n",
       "      <td>Lvl</td>\n",
       "      <td>Gtl</td>\n",
       "      <td>14260</td>\n",
       "      <td>FR2</td>\n",
       "      <td>84.0000</td>\n",
       "      <td>IR1</td>\n",
       "      <td>0</td>\n",
       "      <td>60</td>\n",
       "      <td>RL</td>\n",
       "      <td>350.0000</td>\n",
       "      <td>BrkFace</td>\n",
       "      <td>NaN</td>\n",
       "      <td>0</td>\n",
       "      <td>12</td>\n",
       "      <td>NoRidge</td>\n",
       "      <td>84</td>\n",
       "      <td>5</td>\n",
       "      <td>8</td>\n",
       "      <td>Y</td>\n",
       "      <td>0</td>\n",
       "      <td>NaN</td>\n",
       "      <td>CompShg</td>\n",
       "      <td>Gable</td>\n",
       "      <td>Normal</td>\n",
       "      <td>WD</td>\n",
       "      <td>0</td>\n",
       "      <td>Pave</td>\n",
       "      <td>9</td>\n",
       "      <td>1145.0000</td>\n",
       "      <td>AllPub</td>\n",
       "      <td>192</td>\n",
       "      <td>2000</td>\n",
       "      <td>2000</td>\n",
       "      <td>2008</td>\n",
       "    </tr>\n",
       "  </tbody>\n",
       "</table>\n",
       "</div>"
      ],
      "text/plain": [
       "    SalePrice  LSalePrice  1stFlrSF  2ndFlrSF  3SsnPorch Alley  BedroomAbvGr  \\\n",
       "0 208500.0000     12.2477       856       854          0   NaN             3   \n",
       "1 181500.0000     12.1090      1262         0          0   NaN             3   \n",
       "2 223500.0000     12.3172       920       866          0   NaN             3   \n",
       "3 140000.0000     11.8494       961       756          0   NaN             3   \n",
       "4 250000.0000     12.4292      1145      1053          0   NaN             4   \n",
       "\n",
       "  BldgType BsmtCond BsmtExposure  BsmtFinSF1  BsmtFinSF2 BsmtFinType1  \\\n",
       "0     1Fam       TA           No    706.0000      0.0000          GLQ   \n",
       "1     1Fam       TA           Gd    978.0000      0.0000          ALQ   \n",
       "2     1Fam       TA           Mn    486.0000      0.0000          GLQ   \n",
       "3     1Fam       Gd           No    216.0000      0.0000          ALQ   \n",
       "4     1Fam       TA           Av    655.0000      0.0000          GLQ   \n",
       "\n",
       "  BsmtFinType2  BsmtFullBath  BsmtHalfBath BsmtQual  BsmtUnfSF CentralAir  \\\n",
       "0          Unf        1.0000        0.0000       Gd   150.0000          Y   \n",
       "1          Unf        0.0000        1.0000       Gd   284.0000          Y   \n",
       "2          Unf        1.0000        0.0000       Gd   434.0000          Y   \n",
       "3          Unf        1.0000        0.0000       TA   540.0000          Y   \n",
       "4          Unf        1.0000        0.0000       Gd   490.0000          Y   \n",
       "\n",
       "  Condition1 Condition2 Electrical  EnclosedPorch ExterCond ExterQual  \\\n",
       "0       Norm       Norm      SBrkr              0        TA        Gd   \n",
       "1      Feedr       Norm      SBrkr              0        TA        TA   \n",
       "2       Norm       Norm      SBrkr              0        TA        Gd   \n",
       "3       Norm       Norm      SBrkr            272        TA        TA   \n",
       "4       Norm       Norm      SBrkr              0        TA        Gd   \n",
       "\n",
       "  Exterior1st Exterior2nd Fence FireplaceQu  Fireplaces Foundation  FullBath  \\\n",
       "0     VinylSd     VinylSd   NaN         NaN           0      PConc         2   \n",
       "1     MetalSd     MetalSd   NaN          TA           1     CBlock         2   \n",
       "2     VinylSd     VinylSd   NaN          TA           1      PConc         2   \n",
       "3     Wd Sdng     Wd Shng   NaN          Gd           1     BrkTil         1   \n",
       "4     VinylSd     VinylSd   NaN          TA           1      PConc         2   \n",
       "\n",
       "  Functional  GarageArea  GarageCars GarageCond GarageFinish GarageQual  \\\n",
       "0        Typ    548.0000      2.0000         TA          RFn         TA   \n",
       "1        Typ    460.0000      2.0000         TA          RFn         TA   \n",
       "2        Typ    608.0000      2.0000         TA          RFn         TA   \n",
       "3        Typ    642.0000      3.0000         TA          Unf         TA   \n",
       "4        Typ    836.0000      3.0000         TA          RFn         TA   \n",
       "\n",
       "  GarageType  GarageYrBlt  GrLivArea  HalfBath Heating HeatingQC HouseStyle  \\\n",
       "0     Attchd    2003.0000       1710         1    GasA        Ex     2Story   \n",
       "1     Attchd    1976.0000       1262         0    GasA        Ex     1Story   \n",
       "2     Attchd    2001.0000       1786         1    GasA        Ex     2Story   \n",
       "3     Detchd    1998.0000       1717         0    GasA        Gd     2Story   \n",
       "4     Attchd    2000.0000       2198         1    GasA        Ex     2Story   \n",
       "\n",
       "   Id  KitchenAbvGr KitchenQual LandContour LandSlope  LotArea LotConfig  \\\n",
       "0   1             1          Gd         Lvl       Gtl     8450    Inside   \n",
       "1   2             1          TA         Lvl       Gtl     9600       FR2   \n",
       "2   3             1          Gd         Lvl       Gtl    11250    Inside   \n",
       "3   4             1          Gd         Lvl       Gtl     9550    Corner   \n",
       "4   5             1          Gd         Lvl       Gtl    14260       FR2   \n",
       "\n",
       "   LotFrontage LotShape  LowQualFinSF  MSSubClass MSZoning  MasVnrArea  \\\n",
       "0      65.0000      Reg             0          60       RL    196.0000   \n",
       "1      80.0000      Reg             0          20       RL      0.0000   \n",
       "2      68.0000      IR1             0          60       RL    162.0000   \n",
       "3      60.0000      IR1             0          70       RL      0.0000   \n",
       "4      84.0000      IR1             0          60       RL    350.0000   \n",
       "\n",
       "  MasVnrType MiscFeature  MiscVal  MoSold Neighborhood  OpenPorchSF  \\\n",
       "0    BrkFace         NaN        0       2      CollgCr           61   \n",
       "1       None         NaN        0       5      Veenker            0   \n",
       "2    BrkFace         NaN        0       9      CollgCr           42   \n",
       "3       None         NaN        0       2      Crawfor           35   \n",
       "4    BrkFace         NaN        0      12      NoRidge           84   \n",
       "\n",
       "   OverallCond  OverallQual PavedDrive  PoolArea PoolQC RoofMatl RoofStyle  \\\n",
       "0            5            7          Y         0    NaN  CompShg     Gable   \n",
       "1            8            6          Y         0    NaN  CompShg     Gable   \n",
       "2            5            7          Y         0    NaN  CompShg     Gable   \n",
       "3            5            7          Y         0    NaN  CompShg     Gable   \n",
       "4            5            8          Y         0    NaN  CompShg     Gable   \n",
       "\n",
       "  SaleCondition SaleType  ScreenPorch Street  TotRmsAbvGrd  TotalBsmtSF  \\\n",
       "0        Normal       WD            0   Pave             8     856.0000   \n",
       "1        Normal       WD            0   Pave             6    1262.0000   \n",
       "2        Normal       WD            0   Pave             6     920.0000   \n",
       "3       Abnorml       WD            0   Pave             7     756.0000   \n",
       "4        Normal       WD            0   Pave             9    1145.0000   \n",
       "\n",
       "  Utilities  WoodDeckSF  YearBuilt  YearRemodAdd  YrSold  \n",
       "0    AllPub           0       2003          2003    2008  \n",
       "1    AllPub         298       1976          1976    2007  \n",
       "2    AllPub           0       2001          2002    2008  \n",
       "3    AllPub           0       1915          1970    2006  \n",
       "4    AllPub         192       2000          2000    2008  "
      ]
     },
     "execution_count": 86,
     "metadata": {},
     "output_type": "execute_result"
    }
   ],
   "source": [
    "df.head()"
   ]
  },
  {
   "cell_type": "code",
   "execution_count": 87,
   "metadata": {},
   "outputs": [
    {
     "data": {
      "image/png": "[encoded data removed]",
      "text/plain": [
       "<Figure size 432x288 with 1 Axes>"
      ]
     },
     "metadata": {},
     "output_type": "display_data"
    }
   ],
   "source": [
    "p=sns.regplot(x=\"1stFlrSF\",y=\"LSalePrice\",data=df)"
   ]
  },
  {
   "cell_type": "markdown",
   "metadata": {},
   "source": [
    "### Preprocessing"
   ]
  },
  {
   "cell_type": "code",
   "execution_count": 88,
   "metadata": {},
   "outputs": [
    {
     "data": {
      "image/png": "[encoded data removed]",
      "text/plain": [
       "<Figure size 360x360 with 1 Axes>"
      ]
     },
     "metadata": {},
     "output_type": "display_data"
    }
   ],
   "source": [
    "def clip(dataframe,feature,maximum):\n",
    "    index=dataframe[dataframe[feature]>maximum].index.values\n",
    "    dataframe.loc[index,feature]=maximum\n",
    "    return dataframe    \n",
    "df=clip(df,\"1stFlrSF\",2500)\n",
    "g=sns.lmplot(x=\"1stFlrSF\",y=\"LSalePrice\",data=df)"
   ]
  },
  {
   "cell_type": "markdown",
   "metadata": {},
   "source": [
    "### Check normality"
   ]
  },
  {
   "cell_type": "code",
   "execution_count": 343,
   "metadata": {},
   "outputs": [
    {
     "data": {
      "text/plain": [
       "<matplotlib.axes._subplots.AxesSubplot at 0x23bcca69160>"
      ]
     },
     "execution_count": 343,
     "metadata": {},
     "output_type": "execute_result"
    },
    {
     "data": {
      "image/png": "[encoded data removed]",
      "text/plain": [
       "<Figure size 432x288 with 1 Axes>"
      ]
     },
     "metadata": {},
     "output_type": "display_data"
    }
   ],
   "source": [
    "sns.distplot(train['SalePrice'],fit=norm)"
   ]
  },
  {
   "cell_type": "code",
   "execution_count": 345,
   "metadata": {},
   "outputs": [
    {
     "data": {
      "text/plain": [
       "<matplotlib.axes._subplots.AxesSubplot at 0x23bcc712d68>"
      ]
     },
     "execution_count": 345,
     "metadata": {},
     "output_type": "execute_result"
    },
    {
     "data": {
      "image/png": "[encoded data removed]",
      "text/plain": [
       "<Figure size 432x288 with 1 Axes>"
      ]
     },
     "metadata": {},
     "output_type": "display_data"
    }
   ],
   "source": [
    "sns.distplot(np.log(train['SalePrice']),fit=norm)"
   ]
  },
  {
   "cell_type": "markdown",
   "metadata": {},
   "source": [
    "### Filling missing values"
   ]
  },
  {
   "cell_type": "code",
   "execution_count": 89,
   "metadata": {},
   "outputs": [
    {
     "name": "stdout",
     "output_type": "stream",
     "text": [
      "<class 'pandas.core.frame.DataFrame'>\n",
      "RangeIndex: 2919 entries, 0 to 2918\n",
      "Data columns (total 82 columns):\n",
      "SalePrice        1460 non-null float64\n",
      "LSalePrice       1460 non-null float64\n",
      "1stFlrSF         2919 non-null int64\n",
      "2ndFlrSF         2919 non-null int64\n",
      "3SsnPorch        2919 non-null int64\n",
      "Alley            198 non-null object\n",
      "BedroomAbvGr     2919 non-null int64\n",
      "BldgType         2919 non-null object\n",
      "BsmtCond         2837 non-null object\n",
      "BsmtExposure     2837 non-null object\n",
      "BsmtFinSF1       2918 non-null float64\n",
      "BsmtFinSF2       2918 non-null float64\n",
      "BsmtFinType1     2840 non-null object\n",
      "BsmtFinType2     2839 non-null object\n",
      "BsmtFullBath     2917 non-null float64\n",
      "BsmtHalfBath     2917 non-null float64\n",
      "BsmtQual         2838 non-null object\n",
      "BsmtUnfSF        2918 non-null float64\n",
      "CentralAir       2919 non-null object\n",
      "Condition1       2919 non-null object\n",
      "Condition2       2919 non-null object\n",
      "Electrical       2918 non-null object\n",
      "EnclosedPorch    2919 non-null int64\n",
      "ExterCond        2919 non-null object\n",
      "ExterQual        2919 non-null object\n",
      "Exterior1st      2918 non-null object\n",
      "Exterior2nd      2918 non-null object\n",
      "Fence            571 non-null object\n",
      "FireplaceQu      1499 non-null object\n",
      "Fireplaces       2919 non-null int64\n",
      "Foundation       2919 non-null object\n",
      "FullBath         2919 non-null int64\n",
      "Functional       2917 non-null object\n",
      "GarageArea       2918 non-null float64\n",
      "GarageCars       2918 non-null float64\n",
      "GarageCond       2760 non-null object\n",
      "GarageFinish     2760 non-null object\n",
      "GarageQual       2760 non-null object\n",
      "GarageType       2762 non-null object\n",
      "GarageYrBlt      2760 non-null float64\n",
      "GrLivArea        2919 non-null int64\n",
      "HalfBath         2919 non-null int64\n",
      "Heating          2919 non-null object\n",
      "HeatingQC        2919 non-null object\n",
      "HouseStyle       2919 non-null object\n",
      "Id               2919 non-null int64\n",
      "KitchenAbvGr     2919 non-null int64\n",
      "KitchenQual      2918 non-null object\n",
      "LandContour      2919 non-null object\n",
      "LandSlope        2919 non-null object\n",
      "LotArea          2919 non-null int64\n",
      "LotConfig        2919 non-null object\n",
      "LotFrontage      2433 non-null float64\n",
      "LotShape         2919 non-null object\n",
      "LowQualFinSF     2919 non-null int64\n",
      "MSSubClass       2919 non-null int64\n",
      "MSZoning         2915 non-null object\n",
      "MasVnrArea       2896 non-null float64\n",
      "MasVnrType       2895 non-null object\n",
      "MiscFeature      105 non-null object\n",
      "MiscVal          2919 non-null int64\n",
      "MoSold           2919 non-null int64\n",
      "Neighborhood     2919 non-null object\n",
      "OpenPorchSF      2919 non-null int64\n",
      "OverallCond      2919 non-null int64\n",
      "OverallQual      2919 non-null int64\n",
      "PavedDrive       2919 non-null object\n",
      "PoolArea         2919 non-null int64\n",
      "PoolQC           10 non-null object\n",
      "RoofMatl         2919 non-null object\n",
      "RoofStyle        2919 non-null object\n",
      "SaleCondition    2919 non-null object\n",
      "SaleType         2918 non-null object\n",
      "ScreenPorch      2919 non-null int64\n",
      "Street           2919 non-null object\n",
      "TotRmsAbvGrd     2919 non-null int64\n",
      "TotalBsmtSF      2918 non-null float64\n",
      "Utilities        2917 non-null object\n",
      "WoodDeckSF       2919 non-null int64\n",
      "YearBuilt        2919 non-null int64\n",
      "YearRemodAdd     2919 non-null int64\n",
      "YrSold           2919 non-null int64\n",
      "dtypes: float64(13), int64(26), object(43)\n",
      "memory usage: 1.8+ MB\n"
     ]
    }
   ],
   "source": [
    "df.info()"
   ]
  },
  {
   "cell_type": "code",
   "execution_count": 90,
   "metadata": {},
   "outputs": [
    {
     "data": {
      "text/plain": [
       "'Gd'"
      ]
     },
     "execution_count": 90,
     "metadata": {},
     "output_type": "execute_result"
    }
   ],
   "source": [
    "df[\"BsmtQual\"][0]"
   ]
  },
  {
   "cell_type": "code",
   "execution_count": 91,
   "metadata": {},
   "outputs": [],
   "source": [
    "tofill=[\"BsmtFullBath\",\"BsmtHalfBath\",\"GarageArea\",\"GarageCars\",\"MasVnrArea\",\"TotalBsmtSF\",\"BsmtUnfSF\"]\n",
    "for i in tofill:\n",
    "    df[i].fillna(df[i].median(),inplace=True)"
   ]
  },
  {
   "cell_type": "code",
   "execution_count": 92,
   "metadata": {},
   "outputs": [],
   "source": [
    "del df[\"Utilities\"]"
   ]
  },
  {
   "cell_type": "code",
   "execution_count": 93,
   "metadata": {},
   "outputs": [],
   "source": [
    "tofill2=[\"SaleType\",\"MSZoning\",\"MasVnrType\",\"KitchenQual\",\"Functional\",\"Exterior1st\",\"Exterior2nd\",\"Electrical\"]\n",
    "for j in tofill2:\n",
    "    df[j].fillna(df[j].value_counts().idxmax(),inplace=True)"
   ]
  },
  {
   "cell_type": "code",
   "execution_count": 94,
   "metadata": {},
   "outputs": [],
   "source": [
    "for col in ('GarageType', 'GarageFinish', 'GarageQual', 'GarageCond'):\n",
    "    df[col].fillna(\"None\",inplace=True)"
   ]
  },
  {
   "cell_type": "code",
   "execution_count": 95,
   "metadata": {},
   "outputs": [],
   "source": [
    "df[\"Alley\"].fillna(\"None\",inplace=True)"
   ]
  },
  {
   "cell_type": "code",
   "execution_count": 96,
   "metadata": {},
   "outputs": [],
   "source": [
    "df[\"BsmtCond\"].fillna(\"TA\",inplace=True)"
   ]
  },
  {
   "cell_type": "code",
   "execution_count": 97,
   "metadata": {},
   "outputs": [],
   "source": [
    "df[\"BsmtExposure\"].fillna(\"Av\",inplace=True)"
   ]
  },
  {
   "cell_type": "code",
   "execution_count": 98,
   "metadata": {},
   "outputs": [],
   "source": [
    "df[\"PoolQC\"].fillna(\"None\",inplace=True)"
   ]
  },
  {
   "cell_type": "code",
   "execution_count": 99,
   "metadata": {},
   "outputs": [],
   "source": [
    "df[\"MiscFeature\"] = df[\"MiscFeature\"].fillna(\"None\")"
   ]
  },
  {
   "cell_type": "code",
   "execution_count": 100,
   "metadata": {},
   "outputs": [],
   "source": [
    "df[\"Fence\"] = df[\"Fence\"].fillna(\"None\")"
   ]
  },
  {
   "cell_type": "code",
   "execution_count": 101,
   "metadata": {},
   "outputs": [],
   "source": [
    "df[\"FireplaceQu\"] = df[\"FireplaceQu\"].fillna(\"None\")"
   ]
  },
  {
   "cell_type": "code",
   "execution_count": 102,
   "metadata": {},
   "outputs": [],
   "source": [
    "df[\"BsmtFinSF1\"].fillna(df[\"BsmtFinSF1\"].median(),inplace=True)\n",
    "df[\"BsmtFinSF2\"].fillna(df[\"BsmtFinSF2\"].median(),inplace=True)"
   ]
  },
  {
   "cell_type": "code",
   "execution_count": 103,
   "metadata": {},
   "outputs": [],
   "source": [
    "df[\"LotFrontage\"]=df.groupby(\"Neighborhood\")[\"LotFrontage\"].transform(lambda x: x.fillna(x.median()))"
   ]
  },
  {
   "cell_type": "code",
   "execution_count": 104,
   "metadata": {},
   "outputs": [],
   "source": [
    "for k in [\"BsmtFinType1\",\"BsmtFinType2\",\"BsmtQual\"]:\n",
    "    df[k].fillna(\"None\",inplace=True)"
   ]
  },
  {
   "cell_type": "code",
   "execution_count": 105,
   "metadata": {},
   "outputs": [],
   "source": [
    "df[\"GarageYrBlt\"].fillna(0,inplace=True)"
   ]
  },
  {
   "cell_type": "code",
   "execution_count": null,
   "metadata": {},
   "outputs": [],
   "source": []
  },
  {
   "cell_type": "code",
   "execution_count": 106,
   "metadata": {},
   "outputs": [],
   "source": [
    "df[\"MoSold\"]=df[\"MoSold\"].astype(str)"
   ]
  },
  {
   "cell_type": "code",
   "execution_count": 107,
   "metadata": {},
   "outputs": [],
   "source": [
    "df[\"YrSold\"]=df[\"YrSold\"].astype(str)"
   ]
  },
  {
   "cell_type": "code",
   "execution_count": 108,
   "metadata": {},
   "outputs": [],
   "source": [
    "df[\"MSSubClass\"]=df[\"MSSubClass\"].astype(str)"
   ]
  },
  {
   "cell_type": "code",
   "execution_count": null,
   "metadata": {},
   "outputs": [],
   "source": []
  },
  {
   "cell_type": "code",
   "execution_count": 327,
   "metadata": {},
   "outputs": [],
   "source": [
    "df['TotalSF'] = df['TotalBsmtSF'] + df['1stFlrSF'] + df['2ndFlrSF']"
   ]
  },
  {
   "cell_type": "markdown",
   "metadata": {},
   "source": [
    "### Skewed features"
   ]
  },
  {
   "cell_type": "markdown",
   "metadata": {},
   "source": [
    "Check whether this transormation helped"
   ]
  },
  {
   "cell_type": "code",
   "execution_count": 373,
   "metadata": {},
   "outputs": [
    {
     "data": {
      "text/plain": [
       "MiscVal         21.9472\n",
       "PoolArea        16.8983\n",
       "LotArea         12.8224\n",
       "LowQualFinSF    12.0888\n",
       "3SsnPorch       11.3761\n",
       "KitchenAbvGr     4.3023\n",
       "BsmtFinSF2       4.1461\n",
       "EnclosedPorch    4.0039\n",
       "ScreenPorch      3.9467\n",
       "BsmtHalfBath     3.9316\n",
       "dtype: float64"
      ]
     },
     "execution_count": 373,
     "metadata": {},
     "output_type": "execute_result"
    }
   ],
   "source": [
    "numeric_feats = df.dtypes[df.dtypes != \"object\"].index\n",
    "skewness=df[numeric_feats].apply(lambda x: skew(x.dropna())).sort_values(ascending=False)\n",
    "skewness.head(10)"
   ]
  },
  {
   "cell_type": "code",
   "execution_count": 374,
   "metadata": {},
   "outputs": [],
   "source": [
    "skewness = skewness[abs(skewness) > 0.75]"
   ]
  },
  {
   "cell_type": "code",
   "execution_count": 462,
   "metadata": {},
   "outputs": [],
   "source": [
    "skewed_features=skewness.index.tolist()"
   ]
  },
  {
   "cell_type": "code",
   "execution_count": 463,
   "metadata": {},
   "outputs": [],
   "source": [
    "skewed_features.remove(\"SalePrice\")"
   ]
  },
  {
   "cell_type": "code",
   "execution_count": 465,
   "metadata": {},
   "outputs": [],
   "source": [
    "for f in skewed_features:\n",
    "    df[f]=np.log1p(df[f])"
   ]
  },
  {
   "cell_type": "markdown",
   "metadata": {},
   "source": [
    "### Model"
   ]
  },
  {
   "cell_type": "code",
   "execution_count": 495,
   "metadata": {},
   "outputs": [],
   "source": [
    "from sklearn.metrics import make_scorer\n",
    "from sklearn.model_selection import cross_validate, GridSearchCV, KFold\n",
    "from sklearn.base import clone, BaseEstimator\n",
    "\n",
    "##Regressors\n",
    "from sklearn.linear_model import LinearRegression, Lasso, Ridge\n",
    "from sklearn.ensemble import RandomForestRegressor\n",
    "from xgboost import XGBRegressor"
   ]
  },
  {
   "cell_type": "code",
   "execution_count": 496,
   "metadata": {},
   "outputs": [
    {
     "name": "stdout",
     "output_type": "stream",
     "text": [
      "X shape: 1460 x 330.\n",
      "Length y: 1460\n",
      "X_test shape: 1459 x 330.\n"
     ]
    }
   ],
   "source": [
    "df_dummies=pd.get_dummies(data=df)\n",
    "train_dummies=df_dummies[:1460]\n",
    "test_dummies=df_dummies[1460:]\n",
    "X=train_dummies.drop(columns=\"SalePrice\")\n",
    "y=train_dummies[\"SalePrice\"].values\n",
    "X_test=test_dummies.drop(columns=\"SalePrice\")\n",
    "print(\"X shape: %d x %d.\" % (X.shape[0],X.shape[1]))\n",
    "print(\"Length y: %d\" % (len(y)))\n",
    "print(\"X_test shape: %d x %d.\" % (X_test.shape[0],X_test.shape[1]))"
   ]
  },
  {
   "cell_type": "code",
   "execution_count": 498,
   "metadata": {},
   "outputs": [],
   "source": [
    "def root_mean_squared_error(truth,predictions):\n",
    "    return np.sqrt(sum((truth-predictions) ** 2)/len(truth))\n",
    "rmse_scorer=make_scorer(root_mean_squared_error,greater_is_better=False)"
   ]
  },
  {
   "cell_type": "code",
   "execution_count": 499,
   "metadata": {},
   "outputs": [],
   "source": [
    "regr=[LinearRegression(),Lasso(alpha=0.00001),Ridge(alpha=1),XGBRegressor(max_depth=3),\\\n",
    "      RandomForestRegressor(max_depth=25,n_estimators=60)]"
   ]
  },
  {
   "cell_type": "code",
   "execution_count": 500,
   "metadata": {},
   "outputs": [],
   "source": [
    "kf = KFold(5, shuffle=True, random_state=42).get_n_splits(train.values)"
   ]
  },
  {
   "cell_type": "code",
   "execution_count": 501,
   "metadata": {},
   "outputs": [],
   "source": [
    "def cross_validation(regr=regr,X_train=X,y_train=np.log(y),scoring=rmse_scorer,cv=kf):\n",
    "    names=[]\n",
    "    mean_test_scores=[]\n",
    "    test_stds=[]\n",
    "    mean_train_scores=[]\n",
    "    train_stds=[]\n",
    "    coef=[]\n",
    "    outcomes={}\n",
    "    \n",
    "    for r in regr:\n",
    "        name=r.__class__.__name__\n",
    "        names.append(name)\n",
    "        outcomes[name]=cross_validate(r,X_train,y_train,scoring=scoring,cv=cv)\n",
    "        \n",
    "        mean_test_scores.append(-outcomes[name][\"test_score\"].mean())\n",
    "        test_stds.append(outcomes[name][\"test_score\"].std())\n",
    "        mean_train_scores.append(-outcomes[name][\"train_score\"].mean())\n",
    "        train_stds.append(outcomes[name][\"train_score\"].std())\n",
    "        \n",
    "        r.fit(X_train,y_train)\n",
    "        \n",
    "        if name in [\"LinearRegression\",\"Lasso\",\"Ridge\"]:\n",
    "            coef.append(r.coef_)\n",
    "    \n",
    "    regr_results=pd.DataFrame({\"Regressor\":names,\"Mean train score\":mean_train_scores,\\\n",
    "                               \"Train std\":train_stds,\"Mean test score\":mean_test_scores,\\\n",
    "                                \"test_std\":test_stds},index=np.arange(len(names)))\n",
    "    display(regr_results)\n",
    "    \n",
    "    results=pd.DataFrame({\"Features\":X_train.columns.values,\"LinearRegression\":coef[0],\"Lasso\":coef[1],\\\n",
    "                          \"Ridge\":coef[2]}).sort_values(by=\"Lasso\",ascending=False)\n",
    "    return outcomes,results"
   ]
  },
  {
   "cell_type": "code",
   "execution_count": 502,
   "metadata": {},
   "outputs": [
    {
     "data": {
      "text/html": [
       "<div>\n",
       "<style scoped>\n",
       "    .dataframe tbody tr th:only-of-type {\n",
       "        vertical-align: middle;\n",
       "    }\n",
       "\n",
       "    .dataframe tbody tr th {\n",
       "        vertical-align: top;\n",
       "    }\n",
       "\n",
       "    .dataframe thead th {\n",
       "        text-align: right;\n",
       "    }\n",
       "</style>\n",
       "<table border=\"1\" class=\"dataframe\">\n",
       "  <thead>\n",
       "    <tr style=\"text-align: right;\">\n",
       "      <th></th>\n",
       "      <th>Regressor</th>\n",
       "      <th>Mean train score</th>\n",
       "      <th>Train std</th>\n",
       "      <th>Mean test score</th>\n",
       "      <th>test_std</th>\n",
       "    </tr>\n",
       "  </thead>\n",
       "  <tbody>\n",
       "    <tr>\n",
       "      <th>0</th>\n",
       "      <td>LinearRegression</td>\n",
       "      <td>0.0880</td>\n",
       "      <td>0.0030</td>\n",
       "      <td>2971275247.0670</td>\n",
       "      <td>1977603699.0170</td>\n",
       "    </tr>\n",
       "    <tr>\n",
       "      <th>1</th>\n",
       "      <td>Lasso</td>\n",
       "      <td>0.0883</td>\n",
       "      <td>0.0030</td>\n",
       "      <td>0.1389</td>\n",
       "      <td>0.0174</td>\n",
       "    </tr>\n",
       "    <tr>\n",
       "      <th>2</th>\n",
       "      <td>Ridge</td>\n",
       "      <td>0.0985</td>\n",
       "      <td>0.0024</td>\n",
       "      <td>0.1376</td>\n",
       "      <td>0.0138</td>\n",
       "    </tr>\n",
       "    <tr>\n",
       "      <th>3</th>\n",
       "      <td>XGBRegressor</td>\n",
       "      <td>0.0826</td>\n",
       "      <td>0.0015</td>\n",
       "      <td>0.1309</td>\n",
       "      <td>0.0093</td>\n",
       "    </tr>\n",
       "    <tr>\n",
       "      <th>4</th>\n",
       "      <td>RandomForestRegressor</td>\n",
       "      <td>0.0554</td>\n",
       "      <td>0.0013</td>\n",
       "      <td>0.1444</td>\n",
       "      <td>0.0081</td>\n",
       "    </tr>\n",
       "  </tbody>\n",
       "</table>\n",
       "</div>"
      ],
      "text/plain": [
       "               Regressor  Mean train score  Train std  Mean test score  \\\n",
       "0       LinearRegression            0.0880     0.0030  2971275247.0670   \n",
       "1                  Lasso            0.0883     0.0030           0.1389   \n",
       "2                  Ridge            0.0985     0.0024           0.1376   \n",
       "3           XGBRegressor            0.0826     0.0015           0.1309   \n",
       "4  RandomForestRegressor            0.0554     0.0013           0.1444   \n",
       "\n",
       "         test_std  \n",
       "0 1977603699.0170  \n",
       "1          0.0174  \n",
       "2          0.0138  \n",
       "3          0.0093  \n",
       "4          0.0081  "
      ]
     },
     "metadata": {},
     "output_type": "display_data"
    }
   ],
   "source": [
    "outcomes,results=cross_validation()"
   ]
  },
  {
   "cell_type": "code",
   "execution_count": 145,
   "metadata": {
    "collapsed": true
   },
   "outputs": [
    {
     "data": {
      "text/html": [
       "<div>\n",
       "<style scoped>\n",
       "    .dataframe tbody tr th:only-of-type {\n",
       "        vertical-align: middle;\n",
       "    }\n",
       "\n",
       "    .dataframe tbody tr th {\n",
       "        vertical-align: top;\n",
       "    }\n",
       "\n",
       "    .dataframe thead th {\n",
       "        text-align: right;\n",
       "    }\n",
       "</style>\n",
       "<table border=\"1\" class=\"dataframe\">\n",
       "  <thead>\n",
       "    <tr style=\"text-align: right;\">\n",
       "      <th></th>\n",
       "      <th>Features</th>\n",
       "      <th>LinearRegression</th>\n",
       "      <th>Lasso</th>\n",
       "      <th>Ridge</th>\n",
       "    </tr>\n",
       "  </thead>\n",
       "  <tbody>\n",
       "    <tr>\n",
       "      <th>267</th>\n",
       "      <td>Neighborhood_Crawfor</td>\n",
       "      <td>0.0993</td>\n",
       "      <td>0.0851</td>\n",
       "      <td>0.0845</td>\n",
       "    </tr>\n",
       "    <tr>\n",
       "      <th>26</th>\n",
       "      <td>OverallQual</td>\n",
       "      <td>0.0370</td>\n",
       "      <td>0.0574</td>\n",
       "      <td>0.0458</td>\n",
       "    </tr>\n",
       "    <tr>\n",
       "      <th>105</th>\n",
       "      <td>Exterior1st_BrkFace</td>\n",
       "      <td>0.0969</td>\n",
       "      <td>0.0548</td>\n",
       "      <td>0.0562</td>\n",
       "    </tr>\n",
       "    <tr>\n",
       "      <th>156</th>\n",
       "      <td>Functional_Typ</td>\n",
       "      <td>0.1295</td>\n",
       "      <td>0.0525</td>\n",
       "      <td>0.0676</td>\n",
       "    </tr>\n",
       "    <tr>\n",
       "      <th>73</th>\n",
       "      <td>Condition1_Norm</td>\n",
       "      <td>0.0486</td>\n",
       "      <td>0.0456</td>\n",
       "      <td>0.0487</td>\n",
       "    </tr>\n",
       "    <tr>\n",
       "      <th>25</th>\n",
       "      <td>OverallCond</td>\n",
       "      <td>0.0348</td>\n",
       "      <td>0.0444</td>\n",
       "      <td>0.0402</td>\n",
       "    </tr>\n",
       "    <tr>\n",
       "      <th>283</th>\n",
       "      <td>Neighborhood_StoneBr</td>\n",
       "      <td>0.1311</td>\n",
       "      <td>0.0344</td>\n",
       "      <td>0.0752</td>\n",
       "    </tr>\n",
       "    <tr>\n",
       "      <th>199</th>\n",
       "      <td>KitchenQual_Ex</td>\n",
       "      <td>0.0441</td>\n",
       "      <td>0.0329</td>\n",
       "      <td>0.0376</td>\n",
       "    </tr>\n",
       "    <tr>\n",
       "      <th>264</th>\n",
       "      <td>Neighborhood_BrkSide</td>\n",
       "      <td>0.0121</td>\n",
       "      <td>0.0311</td>\n",
       "      <td>0.0290</td>\n",
       "    </tr>\n",
       "    <tr>\n",
       "      <th>146</th>\n",
       "      <td>Foundation_PConc</td>\n",
       "      <td>0.0308</td>\n",
       "      <td>0.0296</td>\n",
       "      <td>0.0209</td>\n",
       "    </tr>\n",
       "    <tr>\n",
       "      <th>37</th>\n",
       "      <td>BldgType_1Fam</td>\n",
       "      <td>0.0012</td>\n",
       "      <td>0.0294</td>\n",
       "      <td>0.0237</td>\n",
       "    </tr>\n",
       "    <tr>\n",
       "      <th>282</th>\n",
       "      <td>Neighborhood_Somerst</td>\n",
       "      <td>0.0235</td>\n",
       "      <td>0.0285</td>\n",
       "      <td>0.0339</td>\n",
       "    </tr>\n",
       "    <tr>\n",
       "      <th>47</th>\n",
       "      <td>BsmtExposure_Gd</td>\n",
       "      <td>0.0297</td>\n",
       "      <td>0.0274</td>\n",
       "      <td>0.0297</td>\n",
       "    </tr>\n",
       "    <tr>\n",
       "      <th>319</th>\n",
       "      <td>SaleType_New</td>\n",
       "      <td>0.0417</td>\n",
       "      <td>0.0221</td>\n",
       "      <td>0.0242</td>\n",
       "    </tr>\n",
       "    <tr>\n",
       "      <th>186</th>\n",
       "      <td>HeatingQC_Ex</td>\n",
       "      <td>0.0327</td>\n",
       "      <td>0.0210</td>\n",
       "      <td>0.0201</td>\n",
       "    </tr>\n",
       "    <tr>\n",
       "      <th>...</th>\n",
       "      <td>...</td>\n",
       "      <td>...</td>\n",
       "      <td>...</td>\n",
       "      <td>...</td>\n",
       "    </tr>\n",
       "    <tr>\n",
       "      <th>101</th>\n",
       "      <td>ExterQual_TA</td>\n",
       "      <td>-0.0072</td>\n",
       "      <td>-0.0038</td>\n",
       "      <td>-0.0080</td>\n",
       "    </tr>\n",
       "    <tr>\n",
       "      <th>166</th>\n",
       "      <td>GarageFinish_Unf</td>\n",
       "      <td>0.0244</td>\n",
       "      <td>-0.0043</td>\n",
       "      <td>-0.0029</td>\n",
       "    </tr>\n",
       "    <tr>\n",
       "      <th>190</th>\n",
       "      <td>HeatingQC_TA</td>\n",
       "      <td>0.0027</td>\n",
       "      <td>-0.0044</td>\n",
       "      <td>-0.0055</td>\n",
       "    </tr>\n",
       "    <tr>\n",
       "      <th>49</th>\n",
       "      <td>BsmtExposure_No</td>\n",
       "      <td>-0.0150</td>\n",
       "      <td>-0.0047</td>\n",
       "      <td>-0.0143</td>\n",
       "    </tr>\n",
       "    <tr>\n",
       "      <th>141</th>\n",
       "      <td>FireplaceQu_None</td>\n",
       "      <td>-0.0107</td>\n",
       "      <td>-0.0080</td>\n",
       "      <td>-0.0109</td>\n",
       "    </tr>\n",
       "    <tr>\n",
       "      <th>327</th>\n",
       "      <td>YrSold_2009</td>\n",
       "      <td>-0.0105</td>\n",
       "      <td>-0.0083</td>\n",
       "      <td>-0.0092</td>\n",
       "    </tr>\n",
       "    <tr>\n",
       "      <th>18</th>\n",
       "      <td>KitchenAbvGr</td>\n",
       "      <td>-0.0561</td>\n",
       "      <td>-0.0180</td>\n",
       "      <td>-0.0371</td>\n",
       "    </tr>\n",
       "    <tr>\n",
       "      <th>321</th>\n",
       "      <td>SaleType_WD</td>\n",
       "      <td>-0.0560</td>\n",
       "      <td>-0.0201</td>\n",
       "      <td>-0.0401</td>\n",
       "    </tr>\n",
       "    <tr>\n",
       "      <th>268</th>\n",
       "      <td>Neighborhood_Edwards</td>\n",
       "      <td>-0.0780</td>\n",
       "      <td>-0.0211</td>\n",
       "      <td>-0.0527</td>\n",
       "    </tr>\n",
       "    <tr>\n",
       "      <th>221</th>\n",
       "      <td>MSSubClass_160</td>\n",
       "      <td>-0.1192</td>\n",
       "      <td>-0.0250</td>\n",
       "      <td>-0.0510</td>\n",
       "    </tr>\n",
       "    <tr>\n",
       "      <th>225</th>\n",
       "      <td>MSSubClass_30</td>\n",
       "      <td>0.0010</td>\n",
       "      <td>-0.0278</td>\n",
       "      <td>-0.0363</td>\n",
       "    </tr>\n",
       "    <tr>\n",
       "      <th>69</th>\n",
       "      <td>CentralAir_N</td>\n",
       "      <td>-0.0294</td>\n",
       "      <td>-0.0362</td>\n",
       "      <td>-0.0290</td>\n",
       "    </tr>\n",
       "    <tr>\n",
       "      <th>239</th>\n",
       "      <td>MSZoning_RM</td>\n",
       "      <td>0.0444</td>\n",
       "      <td>-0.0549</td>\n",
       "      <td>0.0009</td>\n",
       "    </tr>\n",
       "    <tr>\n",
       "      <th>307</th>\n",
       "      <td>SaleCondition_Abnorml</td>\n",
       "      <td>-0.0403</td>\n",
       "      <td>-0.0570</td>\n",
       "      <td>-0.0415</td>\n",
       "    </tr>\n",
       "    <tr>\n",
       "      <th>235</th>\n",
       "      <td>MSZoning_C (all)</td>\n",
       "      <td>-0.3524</td>\n",
       "      <td>-0.2043</td>\n",
       "      <td>-0.1437</td>\n",
       "    </tr>\n",
       "  </tbody>\n",
       "</table>\n",
       "<p>329 rows × 4 columns</p>\n",
       "</div>"
      ],
      "text/plain": [
       "                  Features  LinearRegression   Lasso   Ridge\n",
       "267   Neighborhood_Crawfor            0.0993  0.0851  0.0845\n",
       "26             OverallQual            0.0370  0.0574  0.0458\n",
       "105    Exterior1st_BrkFace            0.0969  0.0548  0.0562\n",
       "156         Functional_Typ            0.1295  0.0525  0.0676\n",
       "73         Condition1_Norm            0.0486  0.0456  0.0487\n",
       "25             OverallCond            0.0348  0.0444  0.0402\n",
       "283   Neighborhood_StoneBr            0.1311  0.0344  0.0752\n",
       "199         KitchenQual_Ex            0.0441  0.0329  0.0376\n",
       "264   Neighborhood_BrkSide            0.0121  0.0311  0.0290\n",
       "146       Foundation_PConc            0.0308  0.0296  0.0209\n",
       "37           BldgType_1Fam            0.0012  0.0294  0.0237\n",
       "282   Neighborhood_Somerst            0.0235  0.0285  0.0339\n",
       "47         BsmtExposure_Gd            0.0297  0.0274  0.0297\n",
       "319           SaleType_New            0.0417  0.0221  0.0242\n",
       "186           HeatingQC_Ex            0.0327  0.0210  0.0201\n",
       "..                     ...               ...     ...     ...\n",
       "101           ExterQual_TA           -0.0072 -0.0038 -0.0080\n",
       "166       GarageFinish_Unf            0.0244 -0.0043 -0.0029\n",
       "190           HeatingQC_TA            0.0027 -0.0044 -0.0055\n",
       "49         BsmtExposure_No           -0.0150 -0.0047 -0.0143\n",
       "141       FireplaceQu_None           -0.0107 -0.0080 -0.0109\n",
       "327            YrSold_2009           -0.0105 -0.0083 -0.0092\n",
       "18            KitchenAbvGr           -0.0561 -0.0180 -0.0371\n",
       "321            SaleType_WD           -0.0560 -0.0201 -0.0401\n",
       "268   Neighborhood_Edwards           -0.0780 -0.0211 -0.0527\n",
       "221         MSSubClass_160           -0.1192 -0.0250 -0.0510\n",
       "225          MSSubClass_30            0.0010 -0.0278 -0.0363\n",
       "69            CentralAir_N           -0.0294 -0.0362 -0.0290\n",
       "239            MSZoning_RM            0.0444 -0.0549  0.0009\n",
       "307  SaleCondition_Abnorml           -0.0403 -0.0570 -0.0415\n",
       "235       MSZoning_C (all)           -0.3524 -0.2043 -0.1437\n",
       "\n",
       "[329 rows x 4 columns]"
      ]
     },
     "execution_count": 145,
     "metadata": {},
     "output_type": "execute_result"
    }
   ],
   "source": [
    "results"
   ]
  },
  {
   "cell_type": "code",
   "execution_count": 367,
   "metadata": {},
   "outputs": [
    {
     "data": {
      "text/html": [
       "<div>\n",
       "<style scoped>\n",
       "    .dataframe tbody tr th:only-of-type {\n",
       "        vertical-align: middle;\n",
       "    }\n",
       "\n",
       "    .dataframe tbody tr th {\n",
       "        vertical-align: top;\n",
       "    }\n",
       "\n",
       "    .dataframe thead th {\n",
       "        text-align: right;\n",
       "    }\n",
       "</style>\n",
       "<table border=\"1\" class=\"dataframe\">\n",
       "  <thead>\n",
       "    <tr style=\"text-align: right;\">\n",
       "      <th></th>\n",
       "      <th>LinearRegression</th>\n",
       "      <th>Lasso</th>\n",
       "      <th>Ridge</th>\n",
       "    </tr>\n",
       "    <tr>\n",
       "      <th>Features</th>\n",
       "      <th></th>\n",
       "      <th></th>\n",
       "      <th></th>\n",
       "    </tr>\n",
       "  </thead>\n",
       "  <tbody>\n",
       "    <tr>\n",
       "      <th>YearBuilt</th>\n",
       "      <td>0.0020</td>\n",
       "      <td>0.0019</td>\n",
       "      <td>0.0019</td>\n",
       "    </tr>\n",
       "    <tr>\n",
       "      <th>YearRemodAdd</th>\n",
       "      <td>0.0009</td>\n",
       "      <td>0.0008</td>\n",
       "      <td>0.0007</td>\n",
       "    </tr>\n",
       "  </tbody>\n",
       "</table>\n",
       "</div>"
      ],
      "text/plain": [
       "              LinearRegression  Lasso  Ridge\n",
       "Features                                    \n",
       "YearBuilt               0.0020 0.0019 0.0019\n",
       "YearRemodAdd            0.0009 0.0008 0.0007"
      ]
     },
     "execution_count": 367,
     "metadata": {},
     "output_type": "execute_result"
    }
   ],
   "source": [
    "results.set_index(\"Features\").filter(like=\"Year\",axis=0)"
   ]
  },
  {
   "cell_type": "markdown",
   "metadata": {},
   "source": [
    "### Parameter tuning"
   ]
  },
  {
   "cell_type": "code",
   "execution_count": 503,
   "metadata": {},
   "outputs": [],
   "source": [
    "lasso=[Lasso(alpha=0.000001),Lasso(alpha=0.00001),Lasso(alpha=0.0001),Lasso(alpha=0.001)]"
   ]
  },
  {
   "cell_type": "code",
   "execution_count": 504,
   "metadata": {},
   "outputs": [
    {
     "data": {
      "text/html": [
       "<div>\n",
       "<style scoped>\n",
       "    .dataframe tbody tr th:only-of-type {\n",
       "        vertical-align: middle;\n",
       "    }\n",
       "\n",
       "    .dataframe tbody tr th {\n",
       "        vertical-align: top;\n",
       "    }\n",
       "\n",
       "    .dataframe thead th {\n",
       "        text-align: right;\n",
       "    }\n",
       "</style>\n",
       "<table border=\"1\" class=\"dataframe\">\n",
       "  <thead>\n",
       "    <tr style=\"text-align: right;\">\n",
       "      <th></th>\n",
       "      <th>Regressor</th>\n",
       "      <th>Mean train score</th>\n",
       "      <th>Train std</th>\n",
       "      <th>Mean test score</th>\n",
       "      <th>test_std</th>\n",
       "    </tr>\n",
       "  </thead>\n",
       "  <tbody>\n",
       "    <tr>\n",
       "      <th>0</th>\n",
       "      <td>Lasso</td>\n",
       "      <td>0.0882</td>\n",
       "      <td>0.0030</td>\n",
       "      <td>0.1416</td>\n",
       "      <td>0.0182</td>\n",
       "    </tr>\n",
       "    <tr>\n",
       "      <th>1</th>\n",
       "      <td>Lasso</td>\n",
       "      <td>0.0883</td>\n",
       "      <td>0.0030</td>\n",
       "      <td>0.1389</td>\n",
       "      <td>0.0174</td>\n",
       "    </tr>\n",
       "    <tr>\n",
       "      <th>2</th>\n",
       "      <td>Lasso</td>\n",
       "      <td>0.0930</td>\n",
       "      <td>0.0028</td>\n",
       "      <td>0.1304</td>\n",
       "      <td>0.0141</td>\n",
       "    </tr>\n",
       "    <tr>\n",
       "      <th>3</th>\n",
       "      <td>Lasso</td>\n",
       "      <td>0.1225</td>\n",
       "      <td>0.0023</td>\n",
       "      <td>0.1355</td>\n",
       "      <td>0.0120</td>\n",
       "    </tr>\n",
       "  </tbody>\n",
       "</table>\n",
       "</div>"
      ],
      "text/plain": [
       "  Regressor  Mean train score  Train std  Mean test score  test_std\n",
       "0     Lasso            0.0882     0.0030           0.1416    0.0182\n",
       "1     Lasso            0.0883     0.0030           0.1389    0.0174\n",
       "2     Lasso            0.0930     0.0028           0.1304    0.0141\n",
       "3     Lasso            0.1225     0.0023           0.1355    0.0120"
      ]
     },
     "metadata": {},
     "output_type": "display_data"
    }
   ],
   "source": [
    "outcomes,results=cross_validation(regr=lasso)"
   ]
  },
  {
   "cell_type": "code",
   "execution_count": 481,
   "metadata": {},
   "outputs": [],
   "source": [
    "ridge=[Ridge(alpha=0.1),Ridge(alpha=1),Ridge(alpha=5),Ridge(alpha=10)]"
   ]
  },
  {
   "cell_type": "code",
   "execution_count": 482,
   "metadata": {},
   "outputs": [
    {
     "data": {
      "text/html": [
       "<div>\n",
       "<style scoped>\n",
       "    .dataframe tbody tr th:only-of-type {\n",
       "        vertical-align: middle;\n",
       "    }\n",
       "\n",
       "    .dataframe tbody tr th {\n",
       "        vertical-align: top;\n",
       "    }\n",
       "\n",
       "    .dataframe thead th {\n",
       "        text-align: right;\n",
       "    }\n",
       "</style>\n",
       "<table border=\"1\" class=\"dataframe\">\n",
       "  <thead>\n",
       "    <tr style=\"text-align: right;\">\n",
       "      <th></th>\n",
       "      <th>Regressor</th>\n",
       "      <th>Mean train score</th>\n",
       "      <th>Train std</th>\n",
       "      <th>Mean test score</th>\n",
       "      <th>test_std</th>\n",
       "    </tr>\n",
       "  </thead>\n",
       "  <tbody>\n",
       "    <tr>\n",
       "      <th>0</th>\n",
       "      <td>Ridge</td>\n",
       "      <td>0.0075</td>\n",
       "      <td>0.0002</td>\n",
       "      <td>0.0118</td>\n",
       "      <td>0.0012</td>\n",
       "    </tr>\n",
       "    <tr>\n",
       "      <th>1</th>\n",
       "      <td>Ridge</td>\n",
       "      <td>0.0082</td>\n",
       "      <td>0.0002</td>\n",
       "      <td>0.0115</td>\n",
       "      <td>0.0011</td>\n",
       "    </tr>\n",
       "    <tr>\n",
       "      <th>2</th>\n",
       "      <td>Ridge</td>\n",
       "      <td>0.0093</td>\n",
       "      <td>0.0002</td>\n",
       "      <td>0.0117</td>\n",
       "      <td>0.0009</td>\n",
       "    </tr>\n",
       "    <tr>\n",
       "      <th>3</th>\n",
       "      <td>Ridge</td>\n",
       "      <td>0.0098</td>\n",
       "      <td>0.0002</td>\n",
       "      <td>0.0119</td>\n",
       "      <td>0.0009</td>\n",
       "    </tr>\n",
       "  </tbody>\n",
       "</table>\n",
       "</div>"
      ],
      "text/plain": [
       "  Regressor  Mean train score  Train std  Mean test score  test_std\n",
       "0     Ridge            0.0075     0.0002           0.0118    0.0012\n",
       "1     Ridge            0.0082     0.0002           0.0115    0.0011\n",
       "2     Ridge            0.0093     0.0002           0.0117    0.0009\n",
       "3     Ridge            0.0098     0.0002           0.0119    0.0009"
      ]
     },
     "metadata": {},
     "output_type": "display_data"
    }
   ],
   "source": [
    "outcomes,results=cross_validation(regr=ridge)"
   ]
  },
  {
   "cell_type": "code",
   "execution_count": 483,
   "metadata": {},
   "outputs": [
    {
     "name": "stdout",
     "output_type": "stream",
     "text": [
      "-0.010788112830310777\n"
     ]
    },
    {
     "data": {
      "text/plain": [
       "{'gamma': 0, 'max_depth': 3}"
      ]
     },
     "execution_count": 483,
     "metadata": {},
     "output_type": "execute_result"
    }
   ],
   "source": [
    "xgb_parameters={\"gamma\":[0],\"max_depth\":[2,3,5]}\n",
    "xgb_reg=GridSearchCV(XGBRegressor(),xgb_parameters,scoring=rmse_scorer,cv=kf)\n",
    "_=xgb_reg.fit(X,np.log(y))\n",
    "print(xgb_reg.best_score_)\n",
    "xgb_reg.best_params_"
   ]
  },
  {
   "cell_type": "code",
   "execution_count": 484,
   "metadata": {},
   "outputs": [
    {
     "name": "stdout",
     "output_type": "stream",
     "text": [
      "-0.012076477791814984\n"
     ]
    },
    {
     "data": {
      "text/plain": [
       "{'max_depth': 15, 'n_estimators': 60}"
      ]
     },
     "execution_count": 484,
     "metadata": {},
     "output_type": "execute_result"
    }
   ],
   "source": [
    "rf_parameters={\"max_depth\":[15,25,35],\"n_estimators\":[40,60,80]}\n",
    "rf_reg=GridSearchCV(RandomForestRegressor(random_state=42),rf_parameters,scoring=rmse_scorer,cv=kf)\n",
    "_=rf_reg.fit(X,np.log(y))\n",
    "print(rf_reg.best_score_)\n",
    "rf_reg.best_params_"
   ]
  },
  {
   "cell_type": "markdown",
   "metadata": {},
   "source": [
    "### Ensemble method"
   ]
  },
  {
   "cell_type": "code",
   "execution_count": 485,
   "metadata": {},
   "outputs": [],
   "source": [
    "class AverageModels(BaseEstimator):\n",
    "    def __init__(self, models):\n",
    "        self.models=models\n",
    "        \n",
    "    def fit(self, X, y):\n",
    "        self.models_ = [clone(x) for x in self.models]\n",
    "        \n",
    "        for m in self.models_:\n",
    "            m.fit(X,y)\n",
    "    \n",
    "    def predict(self, X):\n",
    "        predictions = np.column_stack(m.predict(X) for m in self.models_)\n",
    "        return np.mean(predictions, axis=1)"
   ]
  },
  {
   "cell_type": "code",
   "execution_count": 486,
   "metadata": {},
   "outputs": [],
   "source": [
    "r=AverageModels(regr[1:4])"
   ]
  },
  {
   "cell_type": "code",
   "execution_count": 487,
   "metadata": {},
   "outputs": [
    {
     "data": {
      "text/plain": [
       "-0.010575881699209946"
      ]
     },
     "execution_count": 487,
     "metadata": {},
     "output_type": "execute_result"
    }
   ],
   "source": [
    "cross_val_score(r,X,np.log(y),scoring=rmse_scorer,cv=kf).mean()"
   ]
  },
  {
   "cell_type": "code",
   "execution_count": 488,
   "metadata": {},
   "outputs": [
    {
     "data": {
      "text/plain": [
       "array([12.24769912, 12.10901644, 12.31717117, ..., 12.49313327,\n",
       "       11.86446927, 11.90159023])"
      ]
     },
     "execution_count": 488,
     "metadata": {},
     "output_type": "execute_result"
    }
   ],
   "source": [
    "y"
   ]
  },
  {
   "cell_type": "markdown",
   "metadata": {},
   "source": [
    "### Outcome"
   ]
  },
  {
   "cell_type": "code",
   "execution_count": 443,
   "metadata": {},
   "outputs": [],
   "source": [
    "r=AverageModels(regr[1:4])"
   ]
  },
  {
   "cell_type": "code",
   "execution_count": 444,
   "metadata": {},
   "outputs": [],
   "source": [
    "r.fit(X,np.log(y))"
   ]
  },
  {
   "cell_type": "code",
   "execution_count": 445,
   "metadata": {},
   "outputs": [],
   "source": [
    "pred_test=r.predict(X_test)"
   ]
  },
  {
   "cell_type": "code",
   "execution_count": 446,
   "metadata": {},
   "outputs": [],
   "source": [
    "final=np.e ** pred_test"
   ]
  },
  {
   "cell_type": "code",
   "execution_count": 447,
   "metadata": {},
   "outputs": [],
   "source": [
    "submission=pd.DataFrame({\"Id\":np.arange(1461,2920),\"SalePrice\":final})"
   ]
  },
  {
   "cell_type": "code",
   "execution_count": 448,
   "metadata": {},
   "outputs": [],
   "source": [
    "submission.to_csv(\"Submission4.csv\",index=False)"
   ]
  },
  {
   "cell_type": "code",
   "execution_count": 449,
   "metadata": {},
   "outputs": [
    {
     "data": {
      "text/plain": [
       "<matplotlib.axes._subplots.AxesSubplot at 0x23bcc416b38>"
      ]
     },
     "execution_count": 449,
     "metadata": {},
     "output_type": "execute_result"
    },
    {
     "data": {
      "image/png": "[encoded data removed]",
      "text/plain": [
       "<Figure size 432x288 with 1 Axes>"
      ]
     },
     "metadata": {},
     "output_type": "display_data"
    }
   ],
   "source": [
    "sns.distplot(final)"
   ]
  },
  {
   "cell_type": "code",
   "execution_count": 454,
   "metadata": {},
   "outputs": [
    {
     "data": {
      "text/plain": [
       "<matplotlib.axes._subplots.AxesSubplot at 0x23bc86c49e8>"
      ]
     },
     "execution_count": 454,
     "metadata": {},
     "output_type": "execute_result"
    },
    {
     "data": {
      "image/png": "[encoded data removed]",
      "text/plain": [
       "<Figure size 432x288 with 1 Axes>"
      ]
     },
     "metadata": {},
     "output_type": "display_data"
    }
   ],
   "source": [
    "sns.distplot(y)"
   ]
  },
  {
   "cell_type": "code",
   "execution_count": null,
   "metadata": {},
   "outputs": [],
   "source": []
  }
 ],
 "metadata": {
  "kernelspec": {
   "display_name": "py36",
   "language": "python",
   "name": "py36"
  },
  "language_info": {
   "codemirror_mode": {
    "name": "ipython",
    "version": 3
   },
   "file_extension": ".py",
   "mimetype": "text/x-python",
   "name": "python",
   "nbconvert_exporter": "python",
   "pygments_lexer": "ipython3",
   "version": "3.6.5"
  }
 },
 "nbformat": 4,
 "nbformat_minor": 2
}
